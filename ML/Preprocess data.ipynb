{
 "cells": [
  {
   "cell_type": "code",
   "execution_count": 1,
   "metadata": {
    "collapsed": true,
    "ExecuteTime": {
     "end_time": "2023-05-07T14:33:17.906836808Z",
     "start_time": "2023-05-07T14:33:16.424615596Z"
    }
   },
   "outputs": [
    {
     "name": "stderr",
     "output_type": "stream",
     "text": [
      "[nltk_data] Downloading package stopwords to /home/denis/nltk_data...\n",
      "[nltk_data]   Package stopwords is already up-to-date!\n",
      "[nltk_data] Downloading package punkt to /home/denis/nltk_data...\n",
      "[nltk_data]   Package punkt is already up-to-date!\n",
      "[nltk_data] Downloading package words to /home/denis/nltk_data...\n",
      "[nltk_data]   Package words is already up-to-date!\n"
     ]
    },
    {
     "data": {
      "text/plain": "True"
     },
     "execution_count": 1,
     "metadata": {},
     "output_type": "execute_result"
    }
   ],
   "source": [
    "import numpy as np\n",
    "import pandas as pd\n",
    "import math\n",
    "import matplotlib.pyplot\n",
    "import nltk\n",
    "import string\n",
    "import os\n",
    "import re\n",
    "\n",
    "nltk.download('stopwords')\n",
    "nltk.download('punkt')\n",
    "nltk.download('words')"
   ]
  },
  {
   "cell_type": "code",
   "execution_count": 2,
   "outputs": [
    {
     "name": "stdout",
     "output_type": "stream",
     "text": [
      "id                 99109\n",
      "executable_name    99109\n",
      "browser_title      99109\n",
      "dtype: int64\n"
     ]
    },
    {
     "data": {
      "text/plain": "   id executable_name                       browser_title\n0   1      3D Hamster        ????? ????? ???????? ???????\n1   2      3D Hamster                  3D Hamster v.0.6.2\n2   3    3ds Max 2021                              3dsmax\n3   4    3ds Max 2021             Data collection and use\n4   5    3ds Max 2021  Unbenannt - Autodesk 3ds Max 2021 ",
      "text/html": "<div>\n<style scoped>\n    .dataframe tbody tr th:only-of-type {\n        vertical-align: middle;\n    }\n\n    .dataframe tbody tr th {\n        vertical-align: top;\n    }\n\n    .dataframe thead th {\n        text-align: right;\n    }\n</style>\n<table border=\"1\" class=\"dataframe\">\n  <thead>\n    <tr style=\"text-align: right;\">\n      <th></th>\n      <th>id</th>\n      <th>executable_name</th>\n      <th>browser_title</th>\n    </tr>\n  </thead>\n  <tbody>\n    <tr>\n      <th>0</th>\n      <td>1</td>\n      <td>3D Hamster</td>\n      <td>????? ????? ???????? ???????</td>\n    </tr>\n    <tr>\n      <th>1</th>\n      <td>2</td>\n      <td>3D Hamster</td>\n      <td>3D Hamster v.0.6.2</td>\n    </tr>\n    <tr>\n      <th>2</th>\n      <td>3</td>\n      <td>3ds Max 2021</td>\n      <td>3dsmax</td>\n    </tr>\n    <tr>\n      <th>3</th>\n      <td>4</td>\n      <td>3ds Max 2021</td>\n      <td>Data collection and use</td>\n    </tr>\n    <tr>\n      <th>4</th>\n      <td>5</td>\n      <td>3ds Max 2021</td>\n      <td>Unbenannt - Autodesk 3ds Max 2021</td>\n    </tr>\n  </tbody>\n</table>\n</div>"
     },
     "execution_count": 2,
     "metadata": {},
     "output_type": "execute_result"
    }
   ],
   "source": [
    "df = pd.read_json('../data/data.json')\n",
    "print(df.count())\n",
    "df.head()"
   ],
   "metadata": {
    "collapsed": false,
    "ExecuteTime": {
     "end_time": "2023-05-07T14:33:18.154192782Z",
     "start_time": "2023-05-07T14:33:17.905221240Z"
    }
   }
  },
  {
   "cell_type": "code",
   "execution_count": 3,
   "outputs": [
    {
     "data": {
      "text/plain": "id                 99109\nexecutable_name    99109\nbrowser_title      99109\ndtype: int64"
     },
     "execution_count": 3,
     "metadata": {},
     "output_type": "execute_result"
    }
   ],
   "source": [
    "df = df.drop_duplicates(subset=['executable_name', 'browser_title'])\n",
    "df.to_csv('../data/unique.csv', index=False)\n",
    "df.count()"
   ],
   "metadata": {
    "collapsed": false,
    "ExecuteTime": {
     "end_time": "2023-05-07T14:33:20.184273274Z",
     "start_time": "2023-05-07T14:33:19.910988793Z"
    }
   }
  },
  {
   "cell_type": "code",
   "execution_count": 6,
   "outputs": [],
   "source": [
    "bag_of_words: dict[str, bool] = {}"
   ],
   "metadata": {
    "collapsed": false,
    "ExecuteTime": {
     "end_time": "2023-05-07T14:34:17.203816788Z",
     "start_time": "2023-05-07T14:34:17.191918906Z"
    }
   }
  },
  {
   "cell_type": "code",
   "execution_count": 4,
   "outputs": [
    {
     "data": {
      "text/plain": "          id                  executable_name  \\\n0          1                       3D Hamster   \n1          2                       3D Hamster   \n2          3                     3ds Max 2021   \n3          4                     3ds Max 2021   \n4          5                     3ds Max 2021   \n...      ...                              ...   \n99096  99097  Хост-процесс Windows (Rundll32)   \n99098  99099  Хост-процесс Windows (Rundll32)   \n99099  99100  Хост-процесс Windows (Rundll32)   \n99101  99102  Хост-процесс Windows (Rundll32)   \n99102  99103  Хост-процесс Windows (Rundll32)   \n\n                                  browser_title Category  \n0                  ????? ????? ???????? ???????           \n1                            3D Hamster v.0.6.2           \n2                                        3dsmax           \n3                       Data collection and use           \n4            Unbenannt - Autodesk 3ds Max 2021            \n...                                         ...      ...  \n99096  Настройка печати: 470_Kyocera_3645 на fs           \n99098   Оповещение системы безопасности Windows           \n99099                          Переменные среды           \n99101          Свойства: 470_Kyocera_3645 на fs           \n99102                Свойства: Внешний микрофон           \n\n[73862 rows x 4 columns]",
      "text/html": "<div>\n<style scoped>\n    .dataframe tbody tr th:only-of-type {\n        vertical-align: middle;\n    }\n\n    .dataframe tbody tr th {\n        vertical-align: top;\n    }\n\n    .dataframe thead th {\n        text-align: right;\n    }\n</style>\n<table border=\"1\" class=\"dataframe\">\n  <thead>\n    <tr style=\"text-align: right;\">\n      <th></th>\n      <th>id</th>\n      <th>executable_name</th>\n      <th>browser_title</th>\n      <th>Category</th>\n    </tr>\n  </thead>\n  <tbody>\n    <tr>\n      <th>0</th>\n      <td>1</td>\n      <td>3D Hamster</td>\n      <td>????? ????? ???????? ???????</td>\n      <td></td>\n    </tr>\n    <tr>\n      <th>1</th>\n      <td>2</td>\n      <td>3D Hamster</td>\n      <td>3D Hamster v.0.6.2</td>\n      <td></td>\n    </tr>\n    <tr>\n      <th>2</th>\n      <td>3</td>\n      <td>3ds Max 2021</td>\n      <td>3dsmax</td>\n      <td></td>\n    </tr>\n    <tr>\n      <th>3</th>\n      <td>4</td>\n      <td>3ds Max 2021</td>\n      <td>Data collection and use</td>\n      <td></td>\n    </tr>\n    <tr>\n      <th>4</th>\n      <td>5</td>\n      <td>3ds Max 2021</td>\n      <td>Unbenannt - Autodesk 3ds Max 2021</td>\n      <td></td>\n    </tr>\n    <tr>\n      <th>...</th>\n      <td>...</td>\n      <td>...</td>\n      <td>...</td>\n      <td>...</td>\n    </tr>\n    <tr>\n      <th>99096</th>\n      <td>99097</td>\n      <td>Хост-процесс Windows (Rundll32)</td>\n      <td>Настройка печати: 470_Kyocera_3645 на fs</td>\n      <td></td>\n    </tr>\n    <tr>\n      <th>99098</th>\n      <td>99099</td>\n      <td>Хост-процесс Windows (Rundll32)</td>\n      <td>Оповещение системы безопасности Windows</td>\n      <td></td>\n    </tr>\n    <tr>\n      <th>99099</th>\n      <td>99100</td>\n      <td>Хост-процесс Windows (Rundll32)</td>\n      <td>Переменные среды</td>\n      <td></td>\n    </tr>\n    <tr>\n      <th>99101</th>\n      <td>99102</td>\n      <td>Хост-процесс Windows (Rundll32)</td>\n      <td>Свойства: 470_Kyocera_3645 на fs</td>\n      <td></td>\n    </tr>\n    <tr>\n      <th>99102</th>\n      <td>99103</td>\n      <td>Хост-процесс Windows (Rundll32)</td>\n      <td>Свойства: Внешний микрофон</td>\n      <td></td>\n    </tr>\n  </tbody>\n</table>\n<p>73862 rows × 4 columns</p>\n</div>"
     },
     "execution_count": 4,
     "metadata": {},
     "output_type": "execute_result"
    }
   ],
   "source": [
    "df['browser_title'] = df['browser_title'].apply(lambda x: re.sub(r'Telegram \\([0-9]+\\)', 'Telegram', x))\n",
    "df['browser_title'] = df['browser_title'].apply(lambda x: re.sub(r'.*Twitter.*', 'Twitter', x))\n",
    "df['browser_title'] = df['browser_title'].apply(lambda x: re.sub(r'.*Твиттер.*', 'Twitter', x))\n",
    "df['Category'] = ''\n",
    "df = df.drop_duplicates(subset=['browser_title'])\n",
    "df"
   ],
   "metadata": {
    "collapsed": false,
    "ExecuteTime": {
     "end_time": "2023-05-07T14:34:02.172184660Z",
     "start_time": "2023-05-07T14:34:01.248966533Z"
    }
   }
  },
  {
   "cell_type": "code",
   "execution_count": 5,
   "outputs": [],
   "source": [
    "blacklist = ['фенибут', \"секс\", 'porn', 'pornstar', 'anal']"
   ],
   "metadata": {
    "collapsed": false,
    "ExecuteTime": {
     "end_time": "2023-05-07T14:34:10.571236985Z",
     "start_time": "2023-05-07T14:34:10.559626709Z"
    }
   }
  },
  {
   "cell_type": "code",
   "execution_count": 7,
   "outputs": [],
   "source": [
    "# corp = nltk.corpus.words.words()\n",
    "def count_words(data: pd.DataFrame):\n",
    "    def counter(row):\n",
    "        if row['browser_title'] == '':\n",
    "            words = row['executable_name'].split()\n",
    "        else:\n",
    "            words = list(set(row['executable_name'].split() + row['browser_title'].split()))\n",
    "        count = 0\n",
    "        for word in words:\n",
    "            if word.lower() in blacklist:\n",
    "                return -1\n",
    "            if word not in bag_of_words:\n",
    "                bag_of_words[word] = True\n",
    "                count += 1\n",
    "        return count\n",
    "    bag_of_words = {}\n",
    "    return data.apply(counter, axis=1)"
   ],
   "metadata": {
    "collapsed": false,
    "ExecuteTime": {
     "end_time": "2023-05-07T14:34:21.605941799Z",
     "start_time": "2023-05-07T14:34:21.598179010Z"
    }
   }
  },
  {
   "cell_type": "code",
   "execution_count": 8,
   "outputs": [
    {
     "data": {
      "text/plain": "          id                  executable_name  \\\n0          1                       3D Hamster   \n1          2                       3D Hamster   \n2          3                     3ds Max 2021   \n3          4                     3ds Max 2021   \n4          5                     3ds Max 2021   \n...      ...                              ...   \n99096  99097  Хост-процесс Windows (Rundll32)   \n99098  99099  Хост-процесс Windows (Rundll32)   \n99099  99100  Хост-процесс Windows (Rundll32)   \n99101  99102  Хост-процесс Windows (Rundll32)   \n99102  99103  Хост-процесс Windows (Rundll32)   \n\n                                  browser_title Category  count  \n0                  ????? ????? ???????? ???????               5  \n1                            3D Hamster v.0.6.2               1  \n2                                        3dsmax               4  \n3                       Data collection and use               4  \n4            Unbenannt - Autodesk 3ds Max 2021                3  \n...                                         ...      ...    ...  \n99096  Настройка печати: 470_Kyocera_3645 на fs               1  \n99098   Оповещение системы безопасности Windows               0  \n99099                          Переменные среды               0  \n99101          Свойства: 470_Kyocera_3645 на fs               0  \n99102                Свойства: Внешний микрофон               0  \n\n[73862 rows x 5 columns]",
      "text/html": "<div>\n<style scoped>\n    .dataframe tbody tr th:only-of-type {\n        vertical-align: middle;\n    }\n\n    .dataframe tbody tr th {\n        vertical-align: top;\n    }\n\n    .dataframe thead th {\n        text-align: right;\n    }\n</style>\n<table border=\"1\" class=\"dataframe\">\n  <thead>\n    <tr style=\"text-align: right;\">\n      <th></th>\n      <th>id</th>\n      <th>executable_name</th>\n      <th>browser_title</th>\n      <th>Category</th>\n      <th>count</th>\n    </tr>\n  </thead>\n  <tbody>\n    <tr>\n      <th>0</th>\n      <td>1</td>\n      <td>3D Hamster</td>\n      <td>????? ????? ???????? ???????</td>\n      <td></td>\n      <td>5</td>\n    </tr>\n    <tr>\n      <th>1</th>\n      <td>2</td>\n      <td>3D Hamster</td>\n      <td>3D Hamster v.0.6.2</td>\n      <td></td>\n      <td>1</td>\n    </tr>\n    <tr>\n      <th>2</th>\n      <td>3</td>\n      <td>3ds Max 2021</td>\n      <td>3dsmax</td>\n      <td></td>\n      <td>4</td>\n    </tr>\n    <tr>\n      <th>3</th>\n      <td>4</td>\n      <td>3ds Max 2021</td>\n      <td>Data collection and use</td>\n      <td></td>\n      <td>4</td>\n    </tr>\n    <tr>\n      <th>4</th>\n      <td>5</td>\n      <td>3ds Max 2021</td>\n      <td>Unbenannt - Autodesk 3ds Max 2021</td>\n      <td></td>\n      <td>3</td>\n    </tr>\n    <tr>\n      <th>...</th>\n      <td>...</td>\n      <td>...</td>\n      <td>...</td>\n      <td>...</td>\n      <td>...</td>\n    </tr>\n    <tr>\n      <th>99096</th>\n      <td>99097</td>\n      <td>Хост-процесс Windows (Rundll32)</td>\n      <td>Настройка печати: 470_Kyocera_3645 на fs</td>\n      <td></td>\n      <td>1</td>\n    </tr>\n    <tr>\n      <th>99098</th>\n      <td>99099</td>\n      <td>Хост-процесс Windows (Rundll32)</td>\n      <td>Оповещение системы безопасности Windows</td>\n      <td></td>\n      <td>0</td>\n    </tr>\n    <tr>\n      <th>99099</th>\n      <td>99100</td>\n      <td>Хост-процесс Windows (Rundll32)</td>\n      <td>Переменные среды</td>\n      <td></td>\n      <td>0</td>\n    </tr>\n    <tr>\n      <th>99101</th>\n      <td>99102</td>\n      <td>Хост-процесс Windows (Rundll32)</td>\n      <td>Свойства: 470_Kyocera_3645 на fs</td>\n      <td></td>\n      <td>0</td>\n    </tr>\n    <tr>\n      <th>99102</th>\n      <td>99103</td>\n      <td>Хост-процесс Windows (Rundll32)</td>\n      <td>Свойства: Внешний микрофон</td>\n      <td></td>\n      <td>0</td>\n    </tr>\n  </tbody>\n</table>\n<p>73862 rows × 5 columns</p>\n</div>"
     },
     "execution_count": 8,
     "metadata": {},
     "output_type": "execute_result"
    }
   ],
   "source": [
    "df['count'] = count_words(df)\n",
    "df"
   ],
   "metadata": {
    "collapsed": false,
    "ExecuteTime": {
     "end_time": "2023-05-07T14:34:23.499654458Z",
     "start_time": "2023-05-07T14:34:22.707257510Z"
    }
   }
  },
  {
   "cell_type": "code",
   "execution_count": 9,
   "outputs": [
    {
     "data": {
      "text/plain": "          id executable_name  \\\n21776  21744   Google Chrome   \n30933  30869   Google Chrome   \n5155    5140          chrome   \n30884  30820   Google Chrome   \n11789  11754      chrome.exe   \n...      ...             ...   \n55604  55406   Google Chrome   \n53613  53432   Google Chrome   \n53614  53433   Google Chrome   \n53615  53434   Google Chrome   \n51540  51374   Google Chrome   \n\n                                           browser_title Category  count  \n21776  'charmap' codec can't decode byte 0x98 in posi...              52  \n30933  In Fig. 10 - 50, two 6,20 kg blocks are connec...              30  \n5155   [[Publication Title: software] OR [Publication...              28  \n30884  #include < class Point { private double m_x, m...              27  \n11789  номер, регистратура, запись, Городская поликли...              27  \n...                                                  ...      ...    ...  \n55604  Что бесит работника секс шопа | Стас Ярков - Y...              -1  \n53613                 Секс в авто Казань - Google Chrome              -1  \n53614  Секс Знакомства Интим Казань в Казани - Google...              -1  \n53615  Секс игрушка в виде черного лисьего хвоста, со...              -1  \n51540  Ноотропное средство Olain Farm Фенибут - «Сним...              -1  \n\n[73862 rows x 5 columns]",
      "text/html": "<div>\n<style scoped>\n    .dataframe tbody tr th:only-of-type {\n        vertical-align: middle;\n    }\n\n    .dataframe tbody tr th {\n        vertical-align: top;\n    }\n\n    .dataframe thead th {\n        text-align: right;\n    }\n</style>\n<table border=\"1\" class=\"dataframe\">\n  <thead>\n    <tr style=\"text-align: right;\">\n      <th></th>\n      <th>id</th>\n      <th>executable_name</th>\n      <th>browser_title</th>\n      <th>Category</th>\n      <th>count</th>\n    </tr>\n  </thead>\n  <tbody>\n    <tr>\n      <th>21776</th>\n      <td>21744</td>\n      <td>Google Chrome</td>\n      <td>'charmap' codec can't decode byte 0x98 in posi...</td>\n      <td></td>\n      <td>52</td>\n    </tr>\n    <tr>\n      <th>30933</th>\n      <td>30869</td>\n      <td>Google Chrome</td>\n      <td>In Fig. 10 - 50, two 6,20 kg blocks are connec...</td>\n      <td></td>\n      <td>30</td>\n    </tr>\n    <tr>\n      <th>5155</th>\n      <td>5140</td>\n      <td>chrome</td>\n      <td>[[Publication Title: software] OR [Publication...</td>\n      <td></td>\n      <td>28</td>\n    </tr>\n    <tr>\n      <th>30884</th>\n      <td>30820</td>\n      <td>Google Chrome</td>\n      <td>#include &lt; class Point { private double m_x, m...</td>\n      <td></td>\n      <td>27</td>\n    </tr>\n    <tr>\n      <th>11789</th>\n      <td>11754</td>\n      <td>chrome.exe</td>\n      <td>номер, регистратура, запись, Городская поликли...</td>\n      <td></td>\n      <td>27</td>\n    </tr>\n    <tr>\n      <th>...</th>\n      <td>...</td>\n      <td>...</td>\n      <td>...</td>\n      <td>...</td>\n      <td>...</td>\n    </tr>\n    <tr>\n      <th>55604</th>\n      <td>55406</td>\n      <td>Google Chrome</td>\n      <td>Что бесит работника секс шопа | Стас Ярков - Y...</td>\n      <td></td>\n      <td>-1</td>\n    </tr>\n    <tr>\n      <th>53613</th>\n      <td>53432</td>\n      <td>Google Chrome</td>\n      <td>Секс в авто Казань - Google Chrome</td>\n      <td></td>\n      <td>-1</td>\n    </tr>\n    <tr>\n      <th>53614</th>\n      <td>53433</td>\n      <td>Google Chrome</td>\n      <td>Секс Знакомства Интим Казань в Казани - Google...</td>\n      <td></td>\n      <td>-1</td>\n    </tr>\n    <tr>\n      <th>53615</th>\n      <td>53434</td>\n      <td>Google Chrome</td>\n      <td>Секс игрушка в виде черного лисьего хвоста, со...</td>\n      <td></td>\n      <td>-1</td>\n    </tr>\n    <tr>\n      <th>51540</th>\n      <td>51374</td>\n      <td>Google Chrome</td>\n      <td>Ноотропное средство Olain Farm Фенибут - «Сним...</td>\n      <td></td>\n      <td>-1</td>\n    </tr>\n  </tbody>\n</table>\n<p>73862 rows × 5 columns</p>\n</div>"
     },
     "execution_count": 9,
     "metadata": {},
     "output_type": "execute_result"
    }
   ],
   "source": [
    "df.sort_values(by='count', ascending=False)"
   ],
   "metadata": {
    "collapsed": false,
    "ExecuteTime": {
     "end_time": "2023-05-07T14:34:27.387017695Z",
     "start_time": "2023-05-07T14:34:27.354207377Z"
    }
   }
  },
  {
   "cell_type": "code",
   "execution_count": 10,
   "outputs": [
    {
     "data": {
      "text/plain": "          id           executable_name  \\\n5155    5140                    chrome   \n11789  11754                chrome.exe   \n11370  11340                chrome.exe   \n8578    8554                chrome.exe   \n4404    4390                    chrome   \n...      ...                       ...   \n858      855  Adobe Acrobat Reader DC    \n9324    9298                chrome.exe   \n9326    9300                chrome.exe   \n4198    4184                    chrome   \n12224  12190                chrome.exe   \n\n                                           browser_title Category  \n5155   [[Publication Title: software] OR [Publication...           \n11789  номер, регистратура, запись, Городская поликли...           \n11370  И повсюду тлеют пожары / Little Fires Everywhe...           \n8578   Kiabi.ru, магазин одежды для женщин, мужчин, д...           \n4404   IamMaxim/vigilant-palm-tree: Why Vigilant Palm...           \n...                                                  ...      ...  \n858               Introduction - Adobe Acrobat Reader DC           \n9324   Personal computing: personal computers and the...           \n9326                           pgAdmin 4 - Google Chrome           \n4198              for - JavaScript | MDN - Google Chrome           \n12224       список иконка – Google Поиск - Google Chrome           \n\n[12000 rows x 4 columns]",
      "text/html": "<div>\n<style scoped>\n    .dataframe tbody tr th:only-of-type {\n        vertical-align: middle;\n    }\n\n    .dataframe tbody tr th {\n        vertical-align: top;\n    }\n\n    .dataframe thead th {\n        text-align: right;\n    }\n</style>\n<table border=\"1\" class=\"dataframe\">\n  <thead>\n    <tr style=\"text-align: right;\">\n      <th></th>\n      <th>id</th>\n      <th>executable_name</th>\n      <th>browser_title</th>\n      <th>Category</th>\n    </tr>\n  </thead>\n  <tbody>\n    <tr>\n      <th>5155</th>\n      <td>5140</td>\n      <td>chrome</td>\n      <td>[[Publication Title: software] OR [Publication...</td>\n      <td></td>\n    </tr>\n    <tr>\n      <th>11789</th>\n      <td>11754</td>\n      <td>chrome.exe</td>\n      <td>номер, регистратура, запись, Городская поликли...</td>\n      <td></td>\n    </tr>\n    <tr>\n      <th>11370</th>\n      <td>11340</td>\n      <td>chrome.exe</td>\n      <td>И повсюду тлеют пожары / Little Fires Everywhe...</td>\n      <td></td>\n    </tr>\n    <tr>\n      <th>8578</th>\n      <td>8554</td>\n      <td>chrome.exe</td>\n      <td>Kiabi.ru, магазин одежды для женщин, мужчин, д...</td>\n      <td></td>\n    </tr>\n    <tr>\n      <th>4404</th>\n      <td>4390</td>\n      <td>chrome</td>\n      <td>IamMaxim/vigilant-palm-tree: Why Vigilant Palm...</td>\n      <td></td>\n    </tr>\n    <tr>\n      <th>...</th>\n      <td>...</td>\n      <td>...</td>\n      <td>...</td>\n      <td>...</td>\n    </tr>\n    <tr>\n      <th>858</th>\n      <td>855</td>\n      <td>Adobe Acrobat Reader DC</td>\n      <td>Introduction - Adobe Acrobat Reader DC</td>\n      <td></td>\n    </tr>\n    <tr>\n      <th>9324</th>\n      <td>9298</td>\n      <td>chrome.exe</td>\n      <td>Personal computing: personal computers and the...</td>\n      <td></td>\n    </tr>\n    <tr>\n      <th>9326</th>\n      <td>9300</td>\n      <td>chrome.exe</td>\n      <td>pgAdmin 4 - Google Chrome</td>\n      <td></td>\n    </tr>\n    <tr>\n      <th>4198</th>\n      <td>4184</td>\n      <td>chrome</td>\n      <td>for - JavaScript | MDN - Google Chrome</td>\n      <td></td>\n    </tr>\n    <tr>\n      <th>12224</th>\n      <td>12190</td>\n      <td>chrome.exe</td>\n      <td>список иконка – Google Поиск - Google Chrome</td>\n      <td></td>\n    </tr>\n  </tbody>\n</table>\n<p>12000 rows × 4 columns</p>\n</div>"
     },
     "execution_count": 10,
     "metadata": {},
     "output_type": "execute_result"
    }
   ],
   "source": [
    "df_2: pd.DataFrame = df.iloc[:12000].sort_values(by='count', ascending=False).drop(columns=['count'])\n",
    "df_2"
   ],
   "metadata": {
    "collapsed": false,
    "ExecuteTime": {
     "end_time": "2023-05-07T14:34:32.264798529Z",
     "start_time": "2023-05-07T14:34:32.242413279Z"
    }
   }
  },
  {
   "cell_type": "code",
   "execution_count": 13,
   "outputs": [],
   "source": [
    "df_2.to_csv('../data/unique.csv', index=False, sep='\\t')"
   ],
   "metadata": {
    "collapsed": false,
    "ExecuteTime": {
     "end_time": "2023-05-07T14:39:09.522569247Z",
     "start_time": "2023-05-07T14:39:09.487282705Z"
    }
   }
  },
  {
   "cell_type": "code",
   "execution_count": 16,
   "outputs": [
    {
     "data": {
      "text/plain": "            Category\nid                  \n5140     Development\n11754      Utilities\n11340  Entertainment\n8554       Utilities\n4390     Development\n...              ...\n855        Utilities\n9298             NaN\n9300             NaN\n4184     Development\n12190            NaN\n\n[11994 rows x 1 columns]",
      "text/html": "<div>\n<style scoped>\n    .dataframe tbody tr th:only-of-type {\n        vertical-align: middle;\n    }\n\n    .dataframe tbody tr th {\n        vertical-align: top;\n    }\n\n    .dataframe thead th {\n        text-align: right;\n    }\n</style>\n<table border=\"1\" class=\"dataframe\">\n  <thead>\n    <tr style=\"text-align: right;\">\n      <th></th>\n      <th>Category</th>\n    </tr>\n    <tr>\n      <th>id</th>\n      <th></th>\n    </tr>\n  </thead>\n  <tbody>\n    <tr>\n      <th>5140</th>\n      <td>Development</td>\n    </tr>\n    <tr>\n      <th>11754</th>\n      <td>Utilities</td>\n    </tr>\n    <tr>\n      <th>11340</th>\n      <td>Entertainment</td>\n    </tr>\n    <tr>\n      <th>8554</th>\n      <td>Utilities</td>\n    </tr>\n    <tr>\n      <th>4390</th>\n      <td>Development</td>\n    </tr>\n    <tr>\n      <th>...</th>\n      <td>...</td>\n    </tr>\n    <tr>\n      <th>855</th>\n      <td>Utilities</td>\n    </tr>\n    <tr>\n      <th>9298</th>\n      <td>NaN</td>\n    </tr>\n    <tr>\n      <th>9300</th>\n      <td>NaN</td>\n    </tr>\n    <tr>\n      <th>4184</th>\n      <td>Development</td>\n    </tr>\n    <tr>\n      <th>12190</th>\n      <td>NaN</td>\n    </tr>\n  </tbody>\n</table>\n<p>11994 rows × 1 columns</p>\n</div>"
     },
     "execution_count": 16,
     "metadata": {},
     "output_type": "execute_result"
    }
   ],
   "source": [
    "df_3 = pd.read_csv('../data/saved.csv', sep='\\t')\n",
    "df_3.set_index('id', inplace=True)\n",
    "df_3"
   ],
   "metadata": {
    "collapsed": false,
    "ExecuteTime": {
     "end_time": "2023-05-07T14:42:06.235591274Z",
     "start_time": "2023-05-07T14:42:06.217963334Z"
    }
   }
  },
  {
   "cell_type": "code",
   "execution_count": 14,
   "outputs": [
    {
     "data": {
      "text/plain": "                executable_name  \\\nid                                \n5140                     chrome   \n11754                chrome.exe   \n11340                chrome.exe   \n8554                 chrome.exe   \n4390                     chrome   \n...                         ...   \n855    Adobe Acrobat Reader DC    \n9298                 chrome.exe   \n9300                 chrome.exe   \n4184                     chrome   \n12190                chrome.exe   \n\n                                           browser_title Category  \nid                                                                 \n5140   [[Publication Title: software] OR [Publication...           \n11754  номер, регистратура, запись, Городская поликли...           \n11340  И повсюду тлеют пожары / Little Fires Everywhe...           \n8554   Kiabi.ru, магазин одежды для женщин, мужчин, д...           \n4390   IamMaxim/vigilant-palm-tree: Why Vigilant Palm...           \n...                                                  ...      ...  \n855               Introduction - Adobe Acrobat Reader DC           \n9298   Personal computing: personal computers and the...           \n9300                           pgAdmin 4 - Google Chrome           \n4184              for - JavaScript | MDN - Google Chrome           \n12190       список иконка – Google Поиск - Google Chrome           \n\n[12000 rows x 3 columns]",
      "text/html": "<div>\n<style scoped>\n    .dataframe tbody tr th:only-of-type {\n        vertical-align: middle;\n    }\n\n    .dataframe tbody tr th {\n        vertical-align: top;\n    }\n\n    .dataframe thead th {\n        text-align: right;\n    }\n</style>\n<table border=\"1\" class=\"dataframe\">\n  <thead>\n    <tr style=\"text-align: right;\">\n      <th></th>\n      <th>executable_name</th>\n      <th>browser_title</th>\n      <th>Category</th>\n    </tr>\n    <tr>\n      <th>id</th>\n      <th></th>\n      <th></th>\n      <th></th>\n    </tr>\n  </thead>\n  <tbody>\n    <tr>\n      <th>5140</th>\n      <td>chrome</td>\n      <td>[[Publication Title: software] OR [Publication...</td>\n      <td></td>\n    </tr>\n    <tr>\n      <th>11754</th>\n      <td>chrome.exe</td>\n      <td>номер, регистратура, запись, Городская поликли...</td>\n      <td></td>\n    </tr>\n    <tr>\n      <th>11340</th>\n      <td>chrome.exe</td>\n      <td>И повсюду тлеют пожары / Little Fires Everywhe...</td>\n      <td></td>\n    </tr>\n    <tr>\n      <th>8554</th>\n      <td>chrome.exe</td>\n      <td>Kiabi.ru, магазин одежды для женщин, мужчин, д...</td>\n      <td></td>\n    </tr>\n    <tr>\n      <th>4390</th>\n      <td>chrome</td>\n      <td>IamMaxim/vigilant-palm-tree: Why Vigilant Palm...</td>\n      <td></td>\n    </tr>\n    <tr>\n      <th>...</th>\n      <td>...</td>\n      <td>...</td>\n      <td>...</td>\n    </tr>\n    <tr>\n      <th>855</th>\n      <td>Adobe Acrobat Reader DC</td>\n      <td>Introduction - Adobe Acrobat Reader DC</td>\n      <td></td>\n    </tr>\n    <tr>\n      <th>9298</th>\n      <td>chrome.exe</td>\n      <td>Personal computing: personal computers and the...</td>\n      <td></td>\n    </tr>\n    <tr>\n      <th>9300</th>\n      <td>chrome.exe</td>\n      <td>pgAdmin 4 - Google Chrome</td>\n      <td></td>\n    </tr>\n    <tr>\n      <th>4184</th>\n      <td>chrome</td>\n      <td>for - JavaScript | MDN - Google Chrome</td>\n      <td></td>\n    </tr>\n    <tr>\n      <th>12190</th>\n      <td>chrome.exe</td>\n      <td>список иконка – Google Поиск - Google Chrome</td>\n      <td></td>\n    </tr>\n  </tbody>\n</table>\n<p>12000 rows × 3 columns</p>\n</div>"
     },
     "execution_count": 14,
     "metadata": {},
     "output_type": "execute_result"
    }
   ],
   "source": [
    "df_2.set_index('id', inplace=True)\n",
    "df_2"
   ],
   "metadata": {
    "collapsed": false,
    "ExecuteTime": {
     "end_time": "2023-05-07T14:41:00.047805001Z",
     "start_time": "2023-05-07T14:41:00.005463512Z"
    }
   }
  },
  {
   "cell_type": "code",
   "execution_count": 17,
   "outputs": [
    {
     "data": {
      "text/plain": "                executable_name  \\\nid                                \n5140                     chrome   \n11754                chrome.exe   \n11340                chrome.exe   \n8554                 chrome.exe   \n4390                     chrome   \n...                         ...   \n855    Adobe Acrobat Reader DC    \n9298                 chrome.exe   \n9300                 chrome.exe   \n4184                     chrome   \n12190                chrome.exe   \n\n                                           browser_title  \nid                                                        \n5140   [[Publication Title: software] OR [Publication...  \n11754  номер, регистратура, запись, Городская поликли...  \n11340  И повсюду тлеют пожары / Little Fires Everywhe...  \n8554   Kiabi.ru, магазин одежды для женщин, мужчин, д...  \n4390   IamMaxim/vigilant-palm-tree: Why Vigilant Palm...  \n...                                                  ...  \n855               Introduction - Adobe Acrobat Reader DC  \n9298   Personal computing: personal computers and the...  \n9300                           pgAdmin 4 - Google Chrome  \n4184              for - JavaScript | MDN - Google Chrome  \n12190       список иконка – Google Поиск - Google Chrome  \n\n[12000 rows x 2 columns]",
      "text/html": "<div>\n<style scoped>\n    .dataframe tbody tr th:only-of-type {\n        vertical-align: middle;\n    }\n\n    .dataframe tbody tr th {\n        vertical-align: top;\n    }\n\n    .dataframe thead th {\n        text-align: right;\n    }\n</style>\n<table border=\"1\" class=\"dataframe\">\n  <thead>\n    <tr style=\"text-align: right;\">\n      <th></th>\n      <th>executable_name</th>\n      <th>browser_title</th>\n    </tr>\n    <tr>\n      <th>id</th>\n      <th></th>\n      <th></th>\n    </tr>\n  </thead>\n  <tbody>\n    <tr>\n      <th>5140</th>\n      <td>chrome</td>\n      <td>[[Publication Title: software] OR [Publication...</td>\n    </tr>\n    <tr>\n      <th>11754</th>\n      <td>chrome.exe</td>\n      <td>номер, регистратура, запись, Городская поликли...</td>\n    </tr>\n    <tr>\n      <th>11340</th>\n      <td>chrome.exe</td>\n      <td>И повсюду тлеют пожары / Little Fires Everywhe...</td>\n    </tr>\n    <tr>\n      <th>8554</th>\n      <td>chrome.exe</td>\n      <td>Kiabi.ru, магазин одежды для женщин, мужчин, д...</td>\n    </tr>\n    <tr>\n      <th>4390</th>\n      <td>chrome</td>\n      <td>IamMaxim/vigilant-palm-tree: Why Vigilant Palm...</td>\n    </tr>\n    <tr>\n      <th>...</th>\n      <td>...</td>\n      <td>...</td>\n    </tr>\n    <tr>\n      <th>855</th>\n      <td>Adobe Acrobat Reader DC</td>\n      <td>Introduction - Adobe Acrobat Reader DC</td>\n    </tr>\n    <tr>\n      <th>9298</th>\n      <td>chrome.exe</td>\n      <td>Personal computing: personal computers and the...</td>\n    </tr>\n    <tr>\n      <th>9300</th>\n      <td>chrome.exe</td>\n      <td>pgAdmin 4 - Google Chrome</td>\n    </tr>\n    <tr>\n      <th>4184</th>\n      <td>chrome</td>\n      <td>for - JavaScript | MDN - Google Chrome</td>\n    </tr>\n    <tr>\n      <th>12190</th>\n      <td>chrome.exe</td>\n      <td>список иконка – Google Поиск - Google Chrome</td>\n    </tr>\n  </tbody>\n</table>\n<p>12000 rows × 2 columns</p>\n</div>"
     },
     "execution_count": 17,
     "metadata": {},
     "output_type": "execute_result"
    }
   ],
   "source": [
    "df_2.drop('Category', axis=1, inplace=True)\n",
    "df_2"
   ],
   "metadata": {
    "collapsed": false,
    "ExecuteTime": {
     "end_time": "2023-05-07T14:43:07.901171829Z",
     "start_time": "2023-05-07T14:43:07.860390525Z"
    }
   }
  },
  {
   "cell_type": "code",
   "execution_count": 18,
   "outputs": [
    {
     "data": {
      "text/plain": "                executable_name  \\\nid                                \n5140                     chrome   \n11754                chrome.exe   \n11340                chrome.exe   \n8554                 chrome.exe   \n4390                     chrome   \n...                         ...   \n855    Adobe Acrobat Reader DC    \n9298                 chrome.exe   \n9300                 chrome.exe   \n4184                     chrome   \n12190                chrome.exe   \n\n                                           browser_title       Category  \nid                                                                       \n5140   [[Publication Title: software] OR [Publication...    Development  \n11754  номер, регистратура, запись, Городская поликли...      Utilities  \n11340  И повсюду тлеют пожары / Little Fires Everywhe...  Entertainment  \n8554   Kiabi.ru, магазин одежды для женщин, мужчин, д...      Utilities  \n4390   IamMaxim/vigilant-palm-tree: Why Vigilant Palm...    Development  \n...                                                  ...            ...  \n855               Introduction - Adobe Acrobat Reader DC      Utilities  \n9298   Personal computing: personal computers and the...            NaN  \n9300                           pgAdmin 4 - Google Chrome            NaN  \n4184              for - JavaScript | MDN - Google Chrome    Development  \n12190       список иконка – Google Поиск - Google Chrome            NaN  \n\n[12000 rows x 3 columns]",
      "text/html": "<div>\n<style scoped>\n    .dataframe tbody tr th:only-of-type {\n        vertical-align: middle;\n    }\n\n    .dataframe tbody tr th {\n        vertical-align: top;\n    }\n\n    .dataframe thead th {\n        text-align: right;\n    }\n</style>\n<table border=\"1\" class=\"dataframe\">\n  <thead>\n    <tr style=\"text-align: right;\">\n      <th></th>\n      <th>executable_name</th>\n      <th>browser_title</th>\n      <th>Category</th>\n    </tr>\n    <tr>\n      <th>id</th>\n      <th></th>\n      <th></th>\n      <th></th>\n    </tr>\n  </thead>\n  <tbody>\n    <tr>\n      <th>5140</th>\n      <td>chrome</td>\n      <td>[[Publication Title: software] OR [Publication...</td>\n      <td>Development</td>\n    </tr>\n    <tr>\n      <th>11754</th>\n      <td>chrome.exe</td>\n      <td>номер, регистратура, запись, Городская поликли...</td>\n      <td>Utilities</td>\n    </tr>\n    <tr>\n      <th>11340</th>\n      <td>chrome.exe</td>\n      <td>И повсюду тлеют пожары / Little Fires Everywhe...</td>\n      <td>Entertainment</td>\n    </tr>\n    <tr>\n      <th>8554</th>\n      <td>chrome.exe</td>\n      <td>Kiabi.ru, магазин одежды для женщин, мужчин, д...</td>\n      <td>Utilities</td>\n    </tr>\n    <tr>\n      <th>4390</th>\n      <td>chrome</td>\n      <td>IamMaxim/vigilant-palm-tree: Why Vigilant Palm...</td>\n      <td>Development</td>\n    </tr>\n    <tr>\n      <th>...</th>\n      <td>...</td>\n      <td>...</td>\n      <td>...</td>\n    </tr>\n    <tr>\n      <th>855</th>\n      <td>Adobe Acrobat Reader DC</td>\n      <td>Introduction - Adobe Acrobat Reader DC</td>\n      <td>Utilities</td>\n    </tr>\n    <tr>\n      <th>9298</th>\n      <td>chrome.exe</td>\n      <td>Personal computing: personal computers and the...</td>\n      <td>NaN</td>\n    </tr>\n    <tr>\n      <th>9300</th>\n      <td>chrome.exe</td>\n      <td>pgAdmin 4 - Google Chrome</td>\n      <td>NaN</td>\n    </tr>\n    <tr>\n      <th>4184</th>\n      <td>chrome</td>\n      <td>for - JavaScript | MDN - Google Chrome</td>\n      <td>Development</td>\n    </tr>\n    <tr>\n      <th>12190</th>\n      <td>chrome.exe</td>\n      <td>список иконка – Google Поиск - Google Chrome</td>\n      <td>NaN</td>\n    </tr>\n  </tbody>\n</table>\n<p>12000 rows × 3 columns</p>\n</div>"
     },
     "execution_count": 18,
     "metadata": {},
     "output_type": "execute_result"
    }
   ],
   "source": [
    "df_2['Category'] = df_3['Category']\n",
    "df_2"
   ],
   "metadata": {
    "collapsed": false,
    "ExecuteTime": {
     "end_time": "2023-05-07T14:43:30.981467719Z",
     "start_time": "2023-05-07T14:43:30.963727474Z"
    }
   }
  },
  {
   "cell_type": "code",
   "execution_count": 20,
   "outputs": [],
   "source": [
    "df_2.to_csv('../data/tagged_true.csv', sep='\\t')"
   ],
   "metadata": {
    "collapsed": false,
    "ExecuteTime": {
     "end_time": "2023-05-07T14:44:55.677868947Z",
     "start_time": "2023-05-07T14:44:55.634573426Z"
    }
   }
  },
  {
   "cell_type": "code",
   "execution_count": 79,
   "outputs": [],
   "source": [
    "# save_by_parts(df_2)"
   ],
   "metadata": {
    "collapsed": false
   }
  },
  {
   "cell_type": "code",
   "execution_count": 7,
   "outputs": [
    {
     "data": {
      "text/plain": "        id  executable_name                               browser_title\n0  4174836        Проводник                                            \n1  4174903          Блокнот                                      дерево\n2  4174904    Google Chrome                           lab google chrome\n3  4174774  WinRAR archiver                                            \n4  4174962    Google Chrome  karinatyulebaevadatabaselabs google chrome",
      "text/html": "<div>\n<style scoped>\n    .dataframe tbody tr th:only-of-type {\n        vertical-align: middle;\n    }\n\n    .dataframe tbody tr th {\n        vertical-align: top;\n    }\n\n    .dataframe thead th {\n        text-align: right;\n    }\n</style>\n<table border=\"1\" class=\"dataframe\">\n  <thead>\n    <tr style=\"text-align: right;\">\n      <th></th>\n      <th>id</th>\n      <th>executable_name</th>\n      <th>browser_title</th>\n    </tr>\n  </thead>\n  <tbody>\n    <tr>\n      <th>0</th>\n      <td>4174836</td>\n      <td>Проводник</td>\n      <td></td>\n    </tr>\n    <tr>\n      <th>1</th>\n      <td>4174903</td>\n      <td>Блокнот</td>\n      <td>дерево</td>\n    </tr>\n    <tr>\n      <th>2</th>\n      <td>4174904</td>\n      <td>Google Chrome</td>\n      <td>lab google chrome</td>\n    </tr>\n    <tr>\n      <th>3</th>\n      <td>4174774</td>\n      <td>WinRAR archiver</td>\n      <td></td>\n    </tr>\n    <tr>\n      <th>4</th>\n      <td>4174962</td>\n      <td>Google Chrome</td>\n      <td>karinatyulebaevadatabaselabs google chrome</td>\n    </tr>\n  </tbody>\n</table>\n</div>"
     },
     "execution_count": 7,
     "metadata": {},
     "output_type": "execute_result"
    }
   ],
   "source": [
    "def preprocess(text):\n",
    "    \"\"\"\n",
    "    Remove all punctuation and stopwords and returns a list of the cleaned text\n",
    "    \"\"\"\n",
    "    nopunc = [char for char in text if char not in string.punctuation]\n",
    "\n",
    "    nopunc = ''.join(nopunc).lower()\n",
    "\n",
    "    return ' '.join([word for word in nopunc.split() if word.lower() not in nltk.corpus.stopwords.words('english') and word.isalpha()])\n",
    "df[\"browser_title\"] = df[\"browser_title\"].apply(preprocess)\n",
    "df.head()"
   ],
   "metadata": {
    "collapsed": false
   }
  },
  {
   "cell_type": "code",
   "execution_count": null,
   "outputs": [],
   "source": [
    "df_2"
   ],
   "metadata": {
    "collapsed": false
   }
  }
 ],
 "metadata": {
  "kernelspec": {
   "display_name": "Python 3",
   "language": "python",
   "name": "python3"
  },
  "language_info": {
   "codemirror_mode": {
    "name": "ipython",
    "version": 2
   },
   "file_extension": ".py",
   "mimetype": "text/x-python",
   "name": "python",
   "nbconvert_exporter": "python",
   "pygments_lexer": "ipython2",
   "version": "2.7.6"
  }
 },
 "nbformat": 4,
 "nbformat_minor": 0
}
