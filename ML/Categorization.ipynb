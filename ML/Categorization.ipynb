{
 "cells": [
  {
   "cell_type": "code",
   "execution_count": 3,
   "metadata": {
    "collapsed": true
   },
   "outputs": [
    {
     "name": "stderr",
     "output_type": "stream",
     "text": [
      "[nltk_data] Downloading package stopwords to /home/denis/nltk_data...\n",
      "[nltk_data]   Package stopwords is already up-to-date!\n",
      "[nltk_data] Downloading package punkt to /home/denis/nltk_data...\n",
      "[nltk_data]   Package punkt is already up-to-date!\n"
     ]
    },
    {
     "data": {
      "text/plain": "True"
     },
     "execution_count": 3,
     "metadata": {},
     "output_type": "execute_result"
    }
   ],
   "source": [
    "import numpy as np\n",
    "import pandas as pd\n",
    "import math\n",
    "import matplotlib.pyplot\n",
    "import nltk\n",
    "import string\n",
    "import os\n",
    "\n",
    "nltk.download('stopwords')\n",
    "nltk.download('punkt')"
   ]
  },
  {
   "cell_type": "code",
   "execution_count": 4,
   "outputs": [
    {
     "data": {
      "text/plain": "        id  executable_name                                   browser_title\n0  4174836        Проводник                                                \n1  4174903          Блокнот                                          Дерево\n2  4174904    Google Chrome                  [S22]DB: Lab 9 - Google Chrome\n3  4174774  WinRAR archiver                                                \n4  4174962    Google Chrome  KarinaTyulebaeva/DataBase_labs - Google Chrome",
      "text/html": "<div>\n<style scoped>\n    .dataframe tbody tr th:only-of-type {\n        vertical-align: middle;\n    }\n\n    .dataframe tbody tr th {\n        vertical-align: top;\n    }\n\n    .dataframe thead th {\n        text-align: right;\n    }\n</style>\n<table border=\"1\" class=\"dataframe\">\n  <thead>\n    <tr style=\"text-align: right;\">\n      <th></th>\n      <th>id</th>\n      <th>executable_name</th>\n      <th>browser_title</th>\n    </tr>\n  </thead>\n  <tbody>\n    <tr>\n      <th>0</th>\n      <td>4174836</td>\n      <td>Проводник</td>\n      <td></td>\n    </tr>\n    <tr>\n      <th>1</th>\n      <td>4174903</td>\n      <td>Блокнот</td>\n      <td>Дерево</td>\n    </tr>\n    <tr>\n      <th>2</th>\n      <td>4174904</td>\n      <td>Google Chrome</td>\n      <td>[S22]DB: Lab 9 - Google Chrome</td>\n    </tr>\n    <tr>\n      <th>3</th>\n      <td>4174774</td>\n      <td>WinRAR archiver</td>\n      <td></td>\n    </tr>\n    <tr>\n      <th>4</th>\n      <td>4174962</td>\n      <td>Google Chrome</td>\n      <td>KarinaTyulebaeva/DataBase_labs - Google Chrome</td>\n    </tr>\n  </tbody>\n</table>\n</div>"
     },
     "execution_count": 4,
     "metadata": {},
     "output_type": "execute_result"
    }
   ],
   "source": [
    "df = pd.read_json('../data/data.json')\n",
    "df.head()"
   ],
   "metadata": {
    "collapsed": false
   }
  },
  {
   "cell_type": "code",
   "execution_count": 5,
   "outputs": [
    {
     "data": {
      "text/plain": "        id  executable_name                               browser_title\n0  4174836        Проводник                                            \n1  4174903          Блокнот                                      дерево\n2  4174904    Google Chrome                           lab google chrome\n3  4174774  WinRAR archiver                                            \n4  4174962    Google Chrome  karinatyulebaevadatabaselabs google chrome",
      "text/html": "<div>\n<style scoped>\n    .dataframe tbody tr th:only-of-type {\n        vertical-align: middle;\n    }\n\n    .dataframe tbody tr th {\n        vertical-align: top;\n    }\n\n    .dataframe thead th {\n        text-align: right;\n    }\n</style>\n<table border=\"1\" class=\"dataframe\">\n  <thead>\n    <tr style=\"text-align: right;\">\n      <th></th>\n      <th>id</th>\n      <th>executable_name</th>\n      <th>browser_title</th>\n    </tr>\n  </thead>\n  <tbody>\n    <tr>\n      <th>0</th>\n      <td>4174836</td>\n      <td>Проводник</td>\n      <td></td>\n    </tr>\n    <tr>\n      <th>1</th>\n      <td>4174903</td>\n      <td>Блокнот</td>\n      <td>дерево</td>\n    </tr>\n    <tr>\n      <th>2</th>\n      <td>4174904</td>\n      <td>Google Chrome</td>\n      <td>lab google chrome</td>\n    </tr>\n    <tr>\n      <th>3</th>\n      <td>4174774</td>\n      <td>WinRAR archiver</td>\n      <td></td>\n    </tr>\n    <tr>\n      <th>4</th>\n      <td>4174962</td>\n      <td>Google Chrome</td>\n      <td>karinatyulebaevadatabaselabs google chrome</td>\n    </tr>\n  </tbody>\n</table>\n</div>"
     },
     "execution_count": 5,
     "metadata": {},
     "output_type": "execute_result"
    }
   ],
   "source": [
    "def preprocess(text):\n",
    "    \"\"\"\n",
    "    Remove all punctuation and stopwords and returns a list of the cleaned text\n",
    "    \"\"\"\n",
    "    nopunc = [char for char in text if char not in string.punctuation]\n",
    "\n",
    "    nopunc = ''.join(nopunc).lower()\n",
    "\n",
    "    return ' '.join([word for word in nopunc.split() if word.lower() not in nltk.corpus.stopwords.words('english') and word.isalpha()])\n",
    "df[\"browser_title\"] = df[\"browser_title\"].apply(preprocess)\n",
    "df.head()"
   ],
   "metadata": {
    "collapsed": false
   }
  },
  {
   "cell_type": "code",
   "execution_count": null,
   "outputs": [],
   "source": [],
   "metadata": {
    "collapsed": false
   }
  }
 ],
 "metadata": {
  "kernelspec": {
   "display_name": "Python 3",
   "language": "python",
   "name": "python3"
  },
  "language_info": {
   "codemirror_mode": {
    "name": "ipython",
    "version": 2
   },
   "file_extension": ".py",
   "mimetype": "text/x-python",
   "name": "python",
   "nbconvert_exporter": "python",
   "pygments_lexer": "ipython2",
   "version": "2.7.6"
  }
 },
 "nbformat": 4,
 "nbformat_minor": 0
}
